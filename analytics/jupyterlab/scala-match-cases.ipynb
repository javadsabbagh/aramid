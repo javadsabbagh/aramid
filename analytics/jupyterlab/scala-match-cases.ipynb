{
 "cells": [
  {
   "cell_type": "code",
   "execution_count": null,
   "metadata": {
    "slideshow": {
     "slide_type": "slide"
    }
   },
   "outputs": [],
   "source": [
    "//%AddJar http://myproject.com/myproject/my.jar\n",
    "\n",
    "//%AddDeps com.typesafe.akka akka-actor 2.5.4 --transitive\n",
    "\n",
    "%AddDeps com.paulgoldbaum scala-influxdb-client_2.12 0.6.1 --transitive\n",
    "// classpath.add(\"com.paulgoldbaum\" %% \"scala-influxdb-client_2.12\"  % \"0.6.1\")\n"
   ]
  },
  {
   "cell_type": "code",
   "execution_count": null,
   "metadata": {
    "slideshow": {
     "slide_type": "slide"
    }
   },
   "outputs": [],
   "source": [
    "import com.paulgoldbaum.influxdbclient._\n",
    "import scala.concurrent.ExecutionContext.Implicits.global\n",
    "\n",
    "val influxdb = InfluxDB.connect(\"localhost\", 8086)\n",
    "val database = influxdb.selectDatabase(\"my_database\")\n",
    "database.exists() // => Future[Boolean]\n",
    "database.create()\n",
    "\n",
    "// val point = Point(\"cpu\")\n",
    "//   .addTag(\"host\", \"my.server\")\n",
    "//   .addField(\"1m\", 0.3)\n",
    "//   .addField(\"5m\", 0.4)\n",
    "//   .addField(\"15m\", 0.5)\n",
    "// database.write(point)\n",
    "\n",
    "\n",
    "database.drop()\n",
    "influxdb.close()"
   ]
  },
  {
   "cell_type": "code",
   "execution_count": null,
   "metadata": {
    "slideshow": {
     "slide_type": "slide"
    }
   },
   "outputs": [],
   "source": [
    "import scala.concurrent.duration._\n",
    "import java.util.concurrent.TimeUnit._\n",
    "\n",
    "// instantiation\n",
    "val d1 = Duration(100, MILLISECONDS) // from Long and TimeUnit\n",
    "val d2 = Duration(100, \"millis\") // from Long and String\n",
    "val d3 = 100 millis // implicitly from Long, Int or Double\n",
    "val d4 = Duration(\"1.2 µs\") // from String\n",
    "\n",
    "// pattern matching\n",
    "val Duration(length, unit) = 5 millis"
   ]
  },
  {
   "cell_type": "code",
   "execution_count": 2,
   "metadata": {
    "slideshow": {
     "slide_type": "slide"
    }
   },
   "outputs": [
    {
     "data": {
      "text/plain": [
       "defined class Term\n",
       "defined class Var\n",
       "defined class Fun\n",
       "defined class App\n"
      ]
     },
     "metadata": {},
     "output_type": "display_data"
    }
   ],
   "source": [
    "abstract class Term\n",
    "case class Var(name: String) extends Term\n",
    "case class Fun(arg: String, body: Term) extends Term\n",
    "case class App(f: Term, v: Term) extends Term"
   ]
  },
  {
   "cell_type": "code",
   "execution_count": 3,
   "metadata": {
    "slideshow": {
     "slide_type": "slide"
    }
   },
   "outputs": [
    {
     "name": "stdout",
     "output_type": "stream",
     "text": [
      "trueElementaryVar(x) == Var(x) => true\n",
      "Var(x) == Var(y) => false\n"
     ]
    },
    {
     "data": {
      "text/plain": [
       "age = 10\n",
       "v = Var(Javad)\n",
       "x1 = Var(x)\n",
       "x2 = Var(x)\n",
       "y1 = Var(y)\n"
      ]
     },
     "metadata": {},
     "output_type": "display_data"
    },
    {
     "data": {
      "text/plain": [
       "Var(y)"
      ]
     },
     "execution_count": 3,
     "metadata": {},
     "output_type": "execute_result"
    }
   ],
   "source": [
    "val age = 10\n",
    "\n",
    "val v = Var(\"Javad\")\n",
    "print (v == Var(\"Javad\"))\n",
    "\n",
    "age match {\n",
    "    case 5 => print(\"Time to go pre-school\")\n",
    "    case 10 => print(\"Elementary\")\n",
    "    case _ => print(\"[Warn] No matching rule!\")\n",
    "}\n",
    "\n",
    "Fun(\"x\", Fun(\"y\", App(Var(\"x\"), Var(\"y\"))))\n",
    "\n",
    "val x1 = Var(\"x\")\n",
    "val x2 = Var(\"x\")\n",
    "val y1 = Var(\"y\")\n",
    "println(\"\" + x1 + \" == \" + x2 + \" => \" + (x1 == x2))\n",
    "println(\"\" + x1 + \" == \" + y1 + \" => \" + (x1 == y1))"
   ]
  },
  {
   "cell_type": "code",
   "execution_count": 13,
   "metadata": {},
   "outputs": [
    {
     "name": "stdout",
     "output_type": "stream",
     "text": [
      "123456789101112131415161718192021222324252627282930313233343536373839404142434445464748495051525354555657585960616263646566676869707172737475767778798081828384858687888990919293949596979899"
     ]
    },
    {
     "data": {
      "text/plain": [
       "myRange = [number: bigint]\n"
      ]
     },
     "metadata": {},
     "output_type": "display_data"
    },
    {
     "data": {
      "text/plain": [
       "[number: bigint]"
      ]
     },
     "execution_count": 13,
     "metadata": {},
     "output_type": "execute_result"
    }
   ],
   "source": [
    "val myRange = spark.range(1000).toDF(\"number\")\n",
    "\n",
    "for (i <- 1 until 100) print(i)"
   ]
  },
  {
   "cell_type": "code",
   "execution_count": 17,
   "metadata": {},
   "outputs": [
    {
     "data": {
      "text/plain": [
       "جواد صباغ"
      ]
     },
     "execution_count": 17,
     "metadata": {},
     "output_type": "execute_result"
    }
   ],
   "source": [
    "\"جواد صباغ\". capitalize"
   ]
  },
  {
   "cell_type": "code",
   "execution_count": 37,
   "metadata": {},
   "outputs": [
    {
     "data": {
      "text/plain": [
       "rsiIndicator = (100,120,101,125)\n",
       "x = List(1, 2, 3, 4, 5, 6, 7, 8, 9, 10, 11, 12, 13, 14, 15, 16, 17, 18, 19, 20, 21, 22, 23, 24, 25, 26, 27, 28, 29, 30, 31, 32, 33, 34, 35, 36, 37, 38, 39, 40, 41, 42, 43, 44, 45, 46, 47, 48, 49, 50, 51, 52, 53, 54, 55, 56, 57, 58, 59, 60, 61, 62, 63, 64, 65, 66, 67, 68, 69, 70, 71, 72, 73, 74, 75, 76, 77, 78, 79, 80, 81, 82, 83, 84, 85, 86, 87, 88, 89, 90, 91, 92, 93, 94, 95, 96, 97, 98, 99, 100)\n"
      ]
     },
     "metadata": {},
     "output_type": "display_data"
    },
    {
     "data": {
      "text/plain": [
       "5050"
      ]
     },
     "execution_count": 37,
     "metadata": {},
     "output_type": "execute_result"
    }
   ],
   "source": [
    "val rsiIndicator = (100, 120, 101, 125)\n",
    "rsiIndicator  == (100, 120, 101, 124)\n",
    "\n",
    "val x = (1 to 100).toList\n",
    "x.reduce(_ + _)"
   ]
  },
  {
   "cell_type": "code",
   "execution_count": 56,
   "metadata": {},
   "outputs": [
    {
     "data": {
      "text/plain": [
       "name = Javad\n",
       "lastName = Sabbagh\n"
      ]
     },
     "metadata": {},
     "output_type": "display_data"
    },
    {
     "data": {
      "text/plain": [
       "Welcome Javad Sabbagh!"
      ]
     },
     "execution_count": 56,
     "metadata": {},
     "output_type": "execute_result"
    }
   ],
   "source": [
    "import scala.io.StdIn.readLine \n",
    "\n",
    "val name = \"Javad\"\n",
    "val lastName = \"Sabbagh\"\n",
    "\n",
    "s\"Welcome $name $lastName!\""
   ]
  },
  {
   "cell_type": "code",
   "execution_count": null,
   "metadata": {},
   "outputs": [],
   "source": []
  }
 ],
 "metadata": {
  "celltoolbar": "Tags",
  "kernelspec": {
   "display_name": "Apache Toree - Scala",
   "language": "scala",
   "name": "apache_toree_scala"
  },
  "language_info": {
   "codemirror_mode": "text/x-scala",
   "file_extension": ".scala",
   "mimetype": "text/x-scala",
   "name": "scala",
   "pygments_lexer": "scala",
   "version": "2.11.12"
  }
 },
 "nbformat": 4,
 "nbformat_minor": 4
}
