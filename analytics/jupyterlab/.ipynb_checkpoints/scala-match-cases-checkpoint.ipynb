{
 "cells": [
  {
   "cell_type": "code",
   "execution_count": 42,
   "metadata": {},
   "outputs": [
    {
     "name": "stdout",
     "output_type": "stream",
     "text": [
      "Marking com.paulgoldbaum:scala-influxdb-client_2.12:0.6.1 for download\n",
      "Obtained 36 files\n"
     ]
    }
   ],
   "source": [
    "//%AddJar http://myproject.com/myproject/my.jar\n",
    "\n",
    "//%AddDeps com.typesafe.akka akka-actor 2.5.4 --transitive\n",
    "\n",
    "%AddDeps com.paulgoldbaum scala-influxdb-client_2.12 0.6.1 --transitive\n",
    "// classpath.add(\"com.paulgoldbaum\" %% \"scala-influxdb-client_2.12\"  % \"0.6.1\")\n"
   ]
  },
  {
   "cell_type": "code",
   "execution_count": 49,
   "metadata": {},
   "outputs": [
    {
     "name": "stdout",
     "output_type": "stream",
     "text": [
      "Future(<not completed>)"
     ]
    },
    {
     "data": {
      "text/plain": [
       "influxdb = com.paulgoldbaum.influxdbclient.InfluxDB@7f0e9727\n",
       "database = com.paulgoldbaum.influxdbclient.Database@7c2db0d2\n",
       "res = Future(Failure(com.paulgoldbaum.influxdbclient.QueryException: Error during query))\n"
      ]
     },
     "metadata": {},
     "output_type": "display_data"
    },
    {
     "data": {
      "text/plain": [
       "lastException: Throwable = null\n"
      ]
     },
     "metadata": {},
     "output_type": "display_data"
    },
    {
     "data": {
      "text/plain": [
       "Future(Failure(com.paulgoldbaum.influxdbclient.QueryException: Error during query))"
      ]
     },
     "execution_count": 49,
     "metadata": {},
     "output_type": "execute_result"
    }
   ],
   "source": [
    "import com.paulgoldbaum.influxdbclient._\n",
    "import scala.concurrent.ExecutionContext.Implicits.global\n",
    "\n",
    "val influxdb = InfluxDB.connect(\"localhost\", 8086)\n",
    "val database = influxdb.selectDatabase(\"my_database\")\n",
    "database.exists() // => Future[Boolean]\n",
    "database.create()\n",
    "\n",
    "// val point = Point(\"cpu\")\n",
    "//   .addTag(\"host\", \"my.server\")\n",
    "//   .addField(\"1m\", 0.3)\n",
    "//   .addField(\"5m\", 0.4)\n",
    "//   .addField(\"15m\", 0.5)\n",
    "// database.write(point)\n",
    "\n",
    "\n",
    "database.drop()\n",
    "influxdb.close()"
   ]
  },
  {
   "cell_type": "code",
   "execution_count": 53,
   "metadata": {},
   "outputs": [
    {
     "data": {
      "text/plain": [
       "Name: Unknown Error\n",
       "Message: <console>:123: error: not found: value duration\n",
       "       val d1 = Duration(100, duration.MILLISECONDS) // from Long and TimeUnit\n",
       "                              ^\n",
       "\n",
       "StackTrace: "
      ]
     },
     "execution_count": 53,
     "metadata": {},
     "output_type": "execute_result"
    }
   ],
   "source": [
    "import scala.concurrent.duration._\n",
    "import java.util.concurrent.TimeUnit._\n",
    "\n",
    "// instantiation\n",
    "val d1 = Duration(100, MILLISECONDS) // from Long and TimeUnit\n",
    "val d2 = Duration(100, \"millis\") // from Long and String\n",
    "val d3 = 100 millis // implicitly from Long, Int or Double\n",
    "val d4 = Duration(\"1.2 µs\") // from String\n",
    "\n",
    "// pattern matching\n",
    "val Duration(length, unit) = 5 millis"
   ]
  },
  {
   "cell_type": "code",
   "execution_count": 54,
   "metadata": {},
   "outputs": [
    {
     "data": {
      "text/plain": [
       "defined class Term\n",
       "defined class Var\n",
       "defined class Fun\n",
       "defined class App\n"
      ]
     },
     "metadata": {},
     "output_type": "display_data"
    }
   ],
   "source": [
    "abstract class Term\n",
    "case class Var(name: String) extends Term\n",
    "case class Fun(arg: String, body: Term) extends Term\n",
    "case class App(f: Term, v: Term) extends Term"
   ]
  },
  {
   "cell_type": "code",
   "execution_count": null,
   "metadata": {},
   "outputs": [
    {
     "name": "stdout",
     "output_type": "stream",
     "text": [
      "trueElementaryVar(x) == Var(x) => true\n",
      "Var(x) == Var(y) => false\n"
     ]
    }
   ],
   "source": [
    "val age = 10\n",
    "\n",
    "val v = Var(\"Javad\")\n",
    "print (v == Var(\"Javad\"))\n",
    "\n",
    "age match {\n",
    "    case 5 => print(\"Time to go pre-school\")\n",
    "    case 10 => print(\"Elementary\")\n",
    "    case _ => print(\"[Warn] No matching rule!\")\n",
    "}\n",
    "\n",
    "Fun(\"x\", Fun(\"y\", App(Var(\"x\"), Var(\"y\"))))\n",
    "\n",
    "val x1 = Var(\"x\")\n",
    "val x2 = Var(\"x\")\n",
    "val y1 = Var(\"y\")\n",
    "println(\"\" + x1 + \" == \" + x2 + \" => \" + (x1 == x2))\n",
    "println(\"\" + x1 + \" == \" + y1 + \" => \" + (x1 == y1))"
   ]
  },
  {
   "cell_type": "code",
   "execution_count": null,
   "metadata": {},
   "outputs": [],
   "source": []
  }
 ],
 "metadata": {
  "kernelspec": {
   "display_name": "Apache Toree - Scala",
   "language": "scala",
   "name": "apache_toree_scala"
  },
  "language_info": {
   "codemirror_mode": "text/x-scala",
   "file_extension": ".scala",
   "mimetype": "text/x-scala",
   "name": "scala",
   "pygments_lexer": "scala",
   "version": "2.11.12"
  }
 },
 "nbformat": 4,
 "nbformat_minor": 4
}
